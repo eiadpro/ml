{
 "cells": [
  {
   "cell_type": "code",
   "execution_count": 1,
   "id": "cd5e3bdb-d9ed-402a-95a1-bc9cb4c22650",
   "metadata": {},
   "outputs": [],
   "source": [
    "import pandas as pd\n",
    "import pickle\n",
    "import re\n",
    "from sklearn.metrics import mean_squared_error, r2_score"
   ]
  },
  {
   "cell_type": "code",
   "execution_count": 2,
   "id": "4c5ca076-4792-47d6-81f6-9da55c42155e",
   "metadata": {},
   "outputs": [
    {
     "data": {
      "text/html": [
       "<div>\n",
       "<style scoped>\n",
       "    .dataframe tbody tr th:only-of-type {\n",
       "        vertical-align: middle;\n",
       "    }\n",
       "\n",
       "    .dataframe tbody tr th {\n",
       "        vertical-align: top;\n",
       "    }\n",
       "\n",
       "    .dataframe thead th {\n",
       "        text-align: right;\n",
       "    }\n",
       "</style>\n",
       "<table border=\"1\" class=\"dataframe\">\n",
       "  <thead>\n",
       "    <tr style=\"text-align: right;\">\n",
       "      <th></th>\n",
       "      <th>bathrooms</th>\n",
       "      <th>bedrooms</th>\n",
       "      <th>price_display</th>\n",
       "      <th>square_feet</th>\n",
       "      <th>state</th>\n",
       "      <th>longitude</th>\n",
       "      <th>total_numberofrooms</th>\n",
       "    </tr>\n",
       "  </thead>\n",
       "  <tbody>\n",
       "    <tr>\n",
       "      <th>0</th>\n",
       "      <td>2</td>\n",
       "      <td>2</td>\n",
       "      <td>1194</td>\n",
       "      <td>6.684612</td>\n",
       "      <td>27</td>\n",
       "      <td>-78.7783</td>\n",
       "      <td>4</td>\n",
       "    </tr>\n",
       "    <tr>\n",
       "      <th>1</th>\n",
       "      <td>1</td>\n",
       "      <td>1</td>\n",
       "      <td>1370</td>\n",
       "      <td>6.678342</td>\n",
       "      <td>48</td>\n",
       "      <td>-89.4003</td>\n",
       "      <td>2</td>\n",
       "    </tr>\n",
       "    <tr>\n",
       "      <th>2</th>\n",
       "      <td>1</td>\n",
       "      <td>1</td>\n",
       "      <td>1009</td>\n",
       "      <td>6.327937</td>\n",
       "      <td>10</td>\n",
       "      <td>-82.3656</td>\n",
       "      <td>2</td>\n",
       "    </tr>\n",
       "    <tr>\n",
       "      <th>3</th>\n",
       "      <td>1</td>\n",
       "      <td>1</td>\n",
       "      <td>695</td>\n",
       "      <td>6.396930</td>\n",
       "      <td>29</td>\n",
       "      <td>-96.0404</td>\n",
       "      <td>2</td>\n",
       "    </tr>\n",
       "    <tr>\n",
       "      <th>4</th>\n",
       "      <td>3</td>\n",
       "      <td>3</td>\n",
       "      <td>3695</td>\n",
       "      <td>7.377759</td>\n",
       "      <td>5</td>\n",
       "      <td>-118.2972</td>\n",
       "      <td>6</td>\n",
       "    </tr>\n",
       "    <tr>\n",
       "      <th>...</th>\n",
       "      <td>...</td>\n",
       "      <td>...</td>\n",
       "      <td>...</td>\n",
       "      <td>...</td>\n",
       "      <td>...</td>\n",
       "      <td>...</td>\n",
       "      <td>...</td>\n",
       "    </tr>\n",
       "    <tr>\n",
       "      <th>8995</th>\n",
       "      <td>1</td>\n",
       "      <td>2</td>\n",
       "      <td>1158</td>\n",
       "      <td>6.774224</td>\n",
       "      <td>7</td>\n",
       "      <td>-72.1062</td>\n",
       "      <td>3</td>\n",
       "    </tr>\n",
       "    <tr>\n",
       "      <th>8996</th>\n",
       "      <td>1</td>\n",
       "      <td>1</td>\n",
       "      <td>2035</td>\n",
       "      <td>6.714171</td>\n",
       "      <td>47</td>\n",
       "      <td>-122.0000</td>\n",
       "      <td>2</td>\n",
       "    </tr>\n",
       "    <tr>\n",
       "      <th>8997</th>\n",
       "      <td>1</td>\n",
       "      <td>2</td>\n",
       "      <td>424</td>\n",
       "      <td>6.738152</td>\n",
       "      <td>48</td>\n",
       "      <td>-88.4411</td>\n",
       "      <td>3</td>\n",
       "    </tr>\n",
       "    <tr>\n",
       "      <th>8998</th>\n",
       "      <td>1</td>\n",
       "      <td>2</td>\n",
       "      <td>1417</td>\n",
       "      <td>6.192362</td>\n",
       "      <td>5</td>\n",
       "      <td>-118.0875</td>\n",
       "      <td>3</td>\n",
       "    </tr>\n",
       "    <tr>\n",
       "      <th>8999</th>\n",
       "      <td>2</td>\n",
       "      <td>2</td>\n",
       "      <td>2398</td>\n",
       "      <td>6.971669</td>\n",
       "      <td>5</td>\n",
       "      <td>-118.4984</td>\n",
       "      <td>4</td>\n",
       "    </tr>\n",
       "  </tbody>\n",
       "</table>\n",
       "<p>8957 rows × 7 columns</p>\n",
       "</div>"
      ],
      "text/plain": [
       "      bathrooms  bedrooms  price_display  square_feet  state  longitude  \\\n",
       "0             2         2           1194     6.684612     27   -78.7783   \n",
       "1             1         1           1370     6.678342     48   -89.4003   \n",
       "2             1         1           1009     6.327937     10   -82.3656   \n",
       "3             1         1            695     6.396930     29   -96.0404   \n",
       "4             3         3           3695     7.377759      5  -118.2972   \n",
       "...         ...       ...            ...          ...    ...        ...   \n",
       "8995          1         2           1158     6.774224      7   -72.1062   \n",
       "8996          1         1           2035     6.714171     47  -122.0000   \n",
       "8997          1         2            424     6.738152     48   -88.4411   \n",
       "8998          1         2           1417     6.192362      5  -118.0875   \n",
       "8999          2         2           2398     6.971669      5  -118.4984   \n",
       "\n",
       "      total_numberofrooms  \n",
       "0                       4  \n",
       "1                       2  \n",
       "2                       2  \n",
       "3                       2  \n",
       "4                       6  \n",
       "...                   ...  \n",
       "8995                    3  \n",
       "8996                    2  \n",
       "8997                    3  \n",
       "8998                    3  \n",
       "8999                    4  \n",
       "\n",
       "[8957 rows x 7 columns]"
      ]
     },
     "execution_count": 2,
     "metadata": {},
     "output_type": "execute_result"
    }
   ],
   "source": [
    "data=pd.read_pickle(r\"C:\\Users\\HP\\Desktop\\ml project ms1\\data.pkl\")\n",
    "data"
   ]
  },
  {
   "cell_type": "code",
   "execution_count": 3,
   "id": "7da29224-734f-4b45-8f3f-b113c9842cd1",
   "metadata": {},
   "outputs": [],
   "source": [
    "df=pd.read_csv(r\"C:\\Users\\HP\\Downloads\\ApartmentRentPrediction.csv\")"
   ]
  },
  {
   "cell_type": "code",
   "execution_count": 4,
   "id": "6d9af32c-9c2f-4a28-a395-e61d686c0d0d",
   "metadata": {},
   "outputs": [],
   "source": [
    "with open(r\"C:\\Users\\HP\\Desktop\\ml project ms1\\most_frequent_values_ms1 (1).pkl\", 'rb') as file:\n",
    "    most_frequent_values = pickle.load(file)\n",
    "for col in df:\n",
    "   \n",
    "    df[col].fillna(most_frequent_values[col], inplace=True)"
   ]
  },
  {
   "cell_type": "code",
   "execution_count": 5,
   "id": "872fa071-d7c1-4f32-a24c-332804b4fee8",
   "metadata": {},
   "outputs": [
    {
     "data": {
      "text/plain": [
       "id               0\n",
       "category         0\n",
       "title            0\n",
       "body             0\n",
       "amenities        0\n",
       "bathrooms        0\n",
       "bedrooms         0\n",
       "currency         0\n",
       "fee              0\n",
       "has_photo        0\n",
       "pets_allowed     0\n",
       "price            0\n",
       "price_display    0\n",
       "price_type       0\n",
       "square_feet      0\n",
       "address          0\n",
       "cityname         0\n",
       "state            0\n",
       "latitude         0\n",
       "longitude        0\n",
       "source           0\n",
       "time             0\n",
       "dtype: int64"
      ]
     },
     "execution_count": 5,
     "metadata": {},
     "output_type": "execute_result"
    }
   ],
   "source": [
    "df.isnull().sum()"
   ]
  },
  {
   "cell_type": "code",
   "execution_count": 6,
   "id": "dc655a26-b0aa-4fff-8ab4-28f0a761d90b",
   "metadata": {},
   "outputs": [],
   "source": [
    "df['price_display'] = df['price_display'].apply(lambda x: re.sub(r'\\D', '', x))\n",
    "df['price_display'] = df['price_display'].astype(int)"
   ]
  },
  {
   "cell_type": "code",
   "execution_count": 7,
   "id": "0ebeb97d-73ef-4f98-9cd9-f4619354f942",
   "metadata": {},
   "outputs": [],
   "source": [
    "with open(r\"C:\\Users\\HP\\Desktop\\ml project ms1\\ordinal_encoders (2).pickle\", 'rb') as f:\n",
    "    ordinal_encoders = pickle.load(f)\n",
    "\n",
    "# Apply ordinal encoding to the categorical columns in the test data\n",
    "for col in df.select_dtypes(include=['object']).columns:\n",
    "    df[col] = ordinal_encoders.fit_transform(df[[col]].astype(str))"
   ]
  },
  {
   "cell_type": "code",
   "execution_count": 8,
   "id": "f60edee2-e340-408e-b69b-bfad877f8285",
   "metadata": {
    "scrolled": true
   },
   "outputs": [
    {
     "data": {
      "text/plain": [
       "id               0\n",
       "category         0\n",
       "title            0\n",
       "body             0\n",
       "amenities        0\n",
       "bathrooms        0\n",
       "bedrooms         0\n",
       "currency         0\n",
       "fee              0\n",
       "has_photo        0\n",
       "pets_allowed     0\n",
       "price            0\n",
       "price_display    0\n",
       "price_type       0\n",
       "square_feet      0\n",
       "address          0\n",
       "cityname         0\n",
       "state            0\n",
       "latitude         0\n",
       "longitude        0\n",
       "source           0\n",
       "time             0\n",
       "dtype: int64"
      ]
     },
     "execution_count": 8,
     "metadata": {},
     "output_type": "execute_result"
    }
   ],
   "source": [
    "df.isnull().sum()"
   ]
  },
  {
   "cell_type": "code",
   "execution_count": 9,
   "id": "16db4736-0477-4612-b4e3-ab4b9dcce101",
   "metadata": {},
   "outputs": [
    {
     "data": {
      "text/plain": [
       "Index(['bathrooms', 'bedrooms', 'price_display', 'square_feet', 'state',\n",
       "       'longitude'],\n",
       "      dtype='object')"
      ]
     },
     "execution_count": 9,
     "metadata": {},
     "output_type": "execute_result"
    }
   ],
   "source": [
    "common_columns = df.columns.intersection(data.columns)\n",
    "for col in df:\n",
    "  if col not in common_columns  :\n",
    "     df.drop(columns=col,inplace=True)\n",
    "common_columns"
   ]
  },
  {
   "cell_type": "code",
   "execution_count": 10,
   "id": "0d6693e1-9a0e-4611-82ec-760e37a53fab",
   "metadata": {},
   "outputs": [],
   "source": [
    "df = pd.DataFrame(df, columns=data.columns)\n",
    "df['total_numberofrooms']=df['bathrooms']+df['bedrooms']"
   ]
  },
  {
   "cell_type": "code",
   "execution_count": 11,
   "id": "cbeed457-21e2-4ba0-9a5f-f6ebf4851498",
   "metadata": {},
   "outputs": [
    {
     "data": {
      "text/html": [
       "<div>\n",
       "<style scoped>\n",
       "    .dataframe tbody tr th:only-of-type {\n",
       "        vertical-align: middle;\n",
       "    }\n",
       "\n",
       "    .dataframe tbody tr th {\n",
       "        vertical-align: top;\n",
       "    }\n",
       "\n",
       "    .dataframe thead th {\n",
       "        text-align: right;\n",
       "    }\n",
       "</style>\n",
       "<table border=\"1\" class=\"dataframe\">\n",
       "  <thead>\n",
       "    <tr style=\"text-align: right;\">\n",
       "      <th></th>\n",
       "      <th>bathrooms</th>\n",
       "      <th>bedrooms</th>\n",
       "      <th>price_display</th>\n",
       "      <th>square_feet</th>\n",
       "      <th>state</th>\n",
       "      <th>longitude</th>\n",
       "      <th>total_numberofrooms</th>\n",
       "    </tr>\n",
       "  </thead>\n",
       "  <tbody>\n",
       "    <tr>\n",
       "      <th>0</th>\n",
       "      <td>2.5</td>\n",
       "      <td>2.0</td>\n",
       "      <td>1194</td>\n",
       "      <td>800</td>\n",
       "      <td>26.0</td>\n",
       "      <td>-78.7783</td>\n",
       "      <td>4.5</td>\n",
       "    </tr>\n",
       "    <tr>\n",
       "      <th>1</th>\n",
       "      <td>1.0</td>\n",
       "      <td>1.0</td>\n",
       "      <td>1370</td>\n",
       "      <td>795</td>\n",
       "      <td>47.0</td>\n",
       "      <td>-89.4003</td>\n",
       "      <td>2.0</td>\n",
       "    </tr>\n",
       "    <tr>\n",
       "      <th>2</th>\n",
       "      <td>1.0</td>\n",
       "      <td>1.0</td>\n",
       "      <td>1009</td>\n",
       "      <td>560</td>\n",
       "      <td>9.0</td>\n",
       "      <td>-82.3656</td>\n",
       "      <td>2.0</td>\n",
       "    </tr>\n",
       "    <tr>\n",
       "      <th>3</th>\n",
       "      <td>1.0</td>\n",
       "      <td>1.0</td>\n",
       "      <td>695</td>\n",
       "      <td>600</td>\n",
       "      <td>28.0</td>\n",
       "      <td>-96.0404</td>\n",
       "      <td>2.0</td>\n",
       "    </tr>\n",
       "    <tr>\n",
       "      <th>4</th>\n",
       "      <td>3.0</td>\n",
       "      <td>3.0</td>\n",
       "      <td>3695</td>\n",
       "      <td>1600</td>\n",
       "      <td>4.0</td>\n",
       "      <td>-118.2972</td>\n",
       "      <td>6.0</td>\n",
       "    </tr>\n",
       "    <tr>\n",
       "      <th>...</th>\n",
       "      <td>...</td>\n",
       "      <td>...</td>\n",
       "      <td>...</td>\n",
       "      <td>...</td>\n",
       "      <td>...</td>\n",
       "      <td>...</td>\n",
       "      <td>...</td>\n",
       "    </tr>\n",
       "    <tr>\n",
       "      <th>8995</th>\n",
       "      <td>1.0</td>\n",
       "      <td>2.0</td>\n",
       "      <td>1158</td>\n",
       "      <td>875</td>\n",
       "      <td>6.0</td>\n",
       "      <td>-72.1062</td>\n",
       "      <td>3.0</td>\n",
       "    </tr>\n",
       "    <tr>\n",
       "      <th>8996</th>\n",
       "      <td>1.0</td>\n",
       "      <td>1.0</td>\n",
       "      <td>2035</td>\n",
       "      <td>824</td>\n",
       "      <td>46.0</td>\n",
       "      <td>-122.1507</td>\n",
       "      <td>2.0</td>\n",
       "    </tr>\n",
       "    <tr>\n",
       "      <th>8997</th>\n",
       "      <td>1.0</td>\n",
       "      <td>2.0</td>\n",
       "      <td>424</td>\n",
       "      <td>844</td>\n",
       "      <td>47.0</td>\n",
       "      <td>-88.4411</td>\n",
       "      <td>3.0</td>\n",
       "    </tr>\n",
       "    <tr>\n",
       "      <th>8998</th>\n",
       "      <td>1.0</td>\n",
       "      <td>2.0</td>\n",
       "      <td>1417</td>\n",
       "      <td>489</td>\n",
       "      <td>4.0</td>\n",
       "      <td>-118.0875</td>\n",
       "      <td>3.0</td>\n",
       "    </tr>\n",
       "    <tr>\n",
       "      <th>8999</th>\n",
       "      <td>2.0</td>\n",
       "      <td>2.0</td>\n",
       "      <td>2398</td>\n",
       "      <td>1066</td>\n",
       "      <td>4.0</td>\n",
       "      <td>-118.4984</td>\n",
       "      <td>4.0</td>\n",
       "    </tr>\n",
       "  </tbody>\n",
       "</table>\n",
       "<p>9000 rows × 7 columns</p>\n",
       "</div>"
      ],
      "text/plain": [
       "      bathrooms  bedrooms  price_display  square_feet  state  longitude  \\\n",
       "0           2.5       2.0           1194          800   26.0   -78.7783   \n",
       "1           1.0       1.0           1370          795   47.0   -89.4003   \n",
       "2           1.0       1.0           1009          560    9.0   -82.3656   \n",
       "3           1.0       1.0            695          600   28.0   -96.0404   \n",
       "4           3.0       3.0           3695         1600    4.0  -118.2972   \n",
       "...         ...       ...            ...          ...    ...        ...   \n",
       "8995        1.0       2.0           1158          875    6.0   -72.1062   \n",
       "8996        1.0       1.0           2035          824   46.0  -122.1507   \n",
       "8997        1.0       2.0            424          844   47.0   -88.4411   \n",
       "8998        1.0       2.0           1417          489    4.0  -118.0875   \n",
       "8999        2.0       2.0           2398         1066    4.0  -118.4984   \n",
       "\n",
       "      total_numberofrooms  \n",
       "0                     4.5  \n",
       "1                     2.0  \n",
       "2                     2.0  \n",
       "3                     2.0  \n",
       "4                     6.0  \n",
       "...                   ...  \n",
       "8995                  3.0  \n",
       "8996                  2.0  \n",
       "8997                  3.0  \n",
       "8998                  3.0  \n",
       "8999                  4.0  \n",
       "\n",
       "[9000 rows x 7 columns]"
      ]
     },
     "execution_count": 11,
     "metadata": {},
     "output_type": "execute_result"
    }
   ],
   "source": [
    "df"
   ]
  },
  {
   "cell_type": "code",
   "execution_count": 12,
   "id": "d2256a0a-6b8e-4b05-ac17-b9bb9afd4751",
   "metadata": {},
   "outputs": [],
   "source": [
    "columns_to_check = ['bathrooms','bedrooms','total_numberofrooms']\n",
    "for col in columns_to_check:\n",
    "\n",
    "    df[col] = df[col].apply(lambda x: int(x) if pd.notnull(x) else None)\n",
    "    df[col].astype(int)"
   ]
  },
  {
   "cell_type": "code",
   "execution_count": 13,
   "id": "52f44114-9c7c-4b77-9b30-be2dadd214be",
   "metadata": {},
   "outputs": [],
   "source": [
    "X = df.drop(columns=['price_display'])\n",
    "y = df['price_display']"
   ]
  },
  {
   "cell_type": "code",
   "execution_count": 14,
   "id": "82dae8dd-c32c-42bc-8bd7-16ca78008023",
   "metadata": {},
   "outputs": [],
   "source": [
    "from scipy.stats import boxcox\n",
    "\n",
    "\n",
    "y, _ = boxcox(y)\n"
   ]
  },
  {
   "cell_type": "code",
   "execution_count": 15,
   "id": "c8ee179f-861c-4c06-bbb0-df36aa25d32d",
   "metadata": {},
   "outputs": [],
   "source": [
    "with open(r\"C:\\Users\\HP\\Desktop\\ml project ms1\\scaler.pickle\", 'rb') as f:\n",
    "    scaler = pickle.load(f)\n",
    "    X_scaled=scaler.transform(X)"
   ]
  },
  {
   "cell_type": "code",
   "execution_count": 16,
   "id": "6e8310bf-5b32-4088-b57c-d64a8c9ab7b7",
   "metadata": {},
   "outputs": [
    {
     "data": {
      "text/plain": [
       "array([[ 1.23739232e+00,  2.68433795e-01,  1.84454201e+03,\n",
       "        -4.36720558e-02,  1.03753426e+00,  6.70102610e-01],\n",
       "       [-6.30058901e-01, -7.93563333e-01,  1.83291574e+03,\n",
       "         1.34910222e+00,  3.40181495e-01, -7.94004983e-01],\n",
       "       [-6.30058901e-01, -7.93563333e-01,  1.28648105e+03,\n",
       "        -1.17115599e+00,  8.02021781e-01, -7.94004983e-01],\n",
       "       ...,\n",
       "       [-6.30058901e-01,  2.68433795e-01,  1.94685319e+03,\n",
       "         1.34910222e+00,  4.03154643e-01, -6.19511865e-02],\n",
       "       [-6.30058901e-01,  2.68433795e-01,  1.12138802e+03,\n",
       "        -1.50276892e+00, -1.54318306e+00, -6.19511865e-02],\n",
       "       [ 1.23739232e+00,  2.68433795e-01,  2.46305957e+03,\n",
       "        -1.50276892e+00, -1.57015936e+00,  6.70102610e-01]])"
      ]
     },
     "execution_count": 16,
     "metadata": {},
     "output_type": "execute_result"
    }
   ],
   "source": [
    "X_scaled"
   ]
  },
  {
   "cell_type": "code",
   "execution_count": 17,
   "id": "257477bb-99f1-473a-a2b9-3c1bf602eed2",
   "metadata": {},
   "outputs": [
    {
     "name": "stdout",
     "output_type": "stream",
     "text": [
      "Mean Squared Error (New Data): 0.0009152856774534476\n",
      "R-squared Score (New Data): -0.12991590563592492\n"
     ]
    }
   ],
   "source": [
    "with open(r\"C:\\Users\\HP\\Desktop\\ml project ms1\\rf_regressor_model.pickle\", 'rb') as f:\n",
    "    loaded_model = pickle.load(f)\n",
    "new_data_predictions = loaded_model.predict(X_scaled)\n",
    "mse_new_data = mean_squared_error(y, new_data_predictions)\n",
    "r2_new_data = r2_score(y, new_data_predictions)\n",
    "\n",
    "print(\"Mean Squared Error (New Data):\", mse_new_data)\n",
    "print(\"R-squared Score (New Data):\", r2_new_data)"
   ]
  },
  {
   "cell_type": "code",
   "execution_count": 18,
   "id": "6ccddddd-0925-4c2e-8372-0466c746120f",
   "metadata": {},
   "outputs": [
    {
     "name": "stdout",
     "output_type": "stream",
     "text": [
      "Mean Squared Error (Test) with Loaded XGBoost Model: 0.0007548638733115626\n",
      "R-squared Score (Test) with Loaded XGBoost Model: 0.06812406437108554\n"
     ]
    }
   ],
   "source": [
    "with open(r\"C:\\Users\\HP\\Desktop\\ml project ms1\\xgb_regressor_model.pickle\", 'rb') as f:\n",
    "    xgb_loaded_model = pickle.load(f)\n",
    "\n",
    "y_test_pred_loaded = xgb_loaded_model.predict(X_scaled)\n",
    "\n",
    "mse_test_loaded = mean_squared_error(y, y_test_pred_loaded)\n",
    "r2_test_loaded = r2_score(y, y_test_pred_loaded)\n",
    "\n",
    "print(\"Mean Squared Error (Test) with Loaded XGBoost Model:\", mse_test_loaded)\n",
    "print(\"R-squared Score (Test) with Loaded XGBoost Model:\", r2_test_loaded)"
   ]
  },
  {
   "cell_type": "code",
   "execution_count": 19,
   "id": "6ddbe88e-05d2-49aa-9189-264495fc28ab",
   "metadata": {},
   "outputs": [
    {
     "name": "stdout",
     "output_type": "stream",
     "text": [
      "Mean Squared Error (Test) with Loaded Linear Regression Model: 4544859279895196.0\n",
      "R-squared Score (Test) with Loaded Linear Regression Model: -5.610607612170142e+18\n"
     ]
    }
   ],
   "source": [
    "with open(r\"C:\\Users\\HP\\Desktop\\ml project ms1\\linear_regressor_model.pickle\", 'rb') as f:\n",
    "    linear_loaded_model = pickle.load(f)\n",
    "\n",
    "\n",
    "y_test_pred_loaded = linear_loaded_model.predict(X_scaled)\n",
    "\n",
    "\n",
    "mse_test_loaded = mean_squared_error(y, y_test_pred_loaded)\n",
    "r2_test_loaded = r2_score(y, y_test_pred_loaded)\n",
    "\n",
    "print(\"Mean Squared Error (Test) with Loaded Linear Regression Model:\", mse_test_loaded)\n",
    "print(\"R-squared Score (Test) with Loaded Linear Regression Model:\", r2_test_loaded)"
   ]
  },
  {
   "cell_type": "code",
   "execution_count": null,
   "id": "598ffd47-2629-4291-9908-bd3b98e244c2",
   "metadata": {},
   "outputs": [],
   "source": []
  }
 ],
 "metadata": {
  "kernelspec": {
   "display_name": "Python 3 (ipykernel)",
   "language": "python",
   "name": "python3"
  },
  "language_info": {
   "codemirror_mode": {
    "name": "ipython",
    "version": 3
   },
   "file_extension": ".py",
   "mimetype": "text/x-python",
   "name": "python",
   "nbconvert_exporter": "python",
   "pygments_lexer": "ipython3",
   "version": "3.11.7"
  }
 },
 "nbformat": 4,
 "nbformat_minor": 5
}
