{
 "cells": [
  {
   "cell_type": "code",
   "execution_count": 49,
   "id": "34620474-c6f4-4b51-b2b7-1e92f6a5d153",
   "metadata": {},
   "outputs": [],
   "source": [
    "import pandas as pd\n",
    "import pickle\n",
    "from sklearn.metrics import confusion_matrix, mean_squared_error,accuracy_score"
   ]
  },
  {
   "cell_type": "code",
   "execution_count": 50,
   "id": "32b1ec39-3565-48f3-8f21-9307446e91d6",
   "metadata": {},
   "outputs": [],
   "source": [
    "\n",
    "    data = pd.read_excel(r\"C:\\Users\\HP\\Desktop\\ml project ms2\\test_Script.csv\")\n"
   ]
  },
  {
   "cell_type": "code",
   "execution_count": 51,
   "id": "b6e9ed34-d8b5-4a71-9bdd-d06ab590f762",
   "metadata": {},
   "outputs": [
    {
     "data": {
      "text/html": [
       "<div>\n",
       "<style scoped>\n",
       "    .dataframe tbody tr th:only-of-type {\n",
       "        vertical-align: middle;\n",
       "    }\n",
       "\n",
       "    .dataframe tbody tr th {\n",
       "        vertical-align: top;\n",
       "    }\n",
       "\n",
       "    .dataframe thead th {\n",
       "        text-align: right;\n",
       "    }\n",
       "</style>\n",
       "<table border=\"1\" class=\"dataframe\">\n",
       "  <thead>\n",
       "    <tr style=\"text-align: right;\">\n",
       "      <th></th>\n",
       "      <th>bathrooms</th>\n",
       "      <th>bedrooms</th>\n",
       "      <th>square_feet</th>\n",
       "      <th>latitude</th>\n",
       "      <th>longitude</th>\n",
       "      <th>cityname</th>\n",
       "      <th>state</th>\n",
       "      <th>source</th>\n",
       "      <th>RentCategory</th>\n",
       "    </tr>\n",
       "  </thead>\n",
       "  <tbody>\n",
       "    <tr>\n",
       "      <th>0</th>\n",
       "      <td>2</td>\n",
       "      <td>1</td>\n",
       "      <td>1400</td>\n",
       "      <td>47.5</td>\n",
       "      <td>-102.1</td>\n",
       "      <td>Dallas</td>\n",
       "      <td>OR</td>\n",
       "      <td>RentLingo</td>\n",
       "      <td>Low Rent</td>\n",
       "    </tr>\n",
       "    <tr>\n",
       "      <th>1</th>\n",
       "      <td>3</td>\n",
       "      <td>3</td>\n",
       "      <td>1200</td>\n",
       "      <td>43.0</td>\n",
       "      <td>-67.1</td>\n",
       "      <td>Carry</td>\n",
       "      <td>NE</td>\n",
       "      <td>RentLingo</td>\n",
       "      <td>High Rent</td>\n",
       "    </tr>\n",
       "  </tbody>\n",
       "</table>\n",
       "</div>"
      ],
      "text/plain": [
       "   bathrooms  bedrooms  square_feet  latitude  longitude cityname state  \\\n",
       "0          2         1         1400      47.5     -102.1   Dallas    OR   \n",
       "1          3         3         1200      43.0      -67.1    Carry    NE   \n",
       "\n",
       "      source RentCategory  \n",
       "0  RentLingo     Low Rent  \n",
       "1  RentLingo    High Rent  "
      ]
     },
     "execution_count": 51,
     "metadata": {},
     "output_type": "execute_result"
    }
   ],
   "source": [
    "data"
   ]
  },
  {
   "cell_type": "code",
   "execution_count": 52,
   "id": "7906aa36-75e6-49c1-bd64-4458cb1e5a13",
   "metadata": {},
   "outputs": [],
   "source": [
    "    df = pd.read_csv(r\"C:\\Users\\HP\\Downloads\\ApartmentRentPrediction_Milestone2.csv\")"
   ]
  },
  {
   "cell_type": "code",
   "execution_count": 53,
   "id": "9d9cbcb4-ba66-4dea-b223-a21b68b25dbc",
   "metadata": {},
   "outputs": [],
   "source": [
    "common_columns = df.columns.intersection(data.columns)\n",
    "for col in df:\n",
    "  if col not in common_columns  :\n",
    "     df.drop(columns=col,inplace=True)\n",
    "\n"
   ]
  },
  {
   "cell_type": "code",
   "execution_count": 54,
   "id": "255c1a99-2acc-48ea-934b-1b13e8660d11",
   "metadata": {},
   "outputs": [],
   "source": [
    "df = pd.DataFrame(df, columns=data.columns)"
   ]
  },
  {
   "cell_type": "code",
   "execution_count": 55,
   "id": "a409d17c-2308-463d-b353-7faf3d9fc0ec",
   "metadata": {},
   "outputs": [
    {
     "data": {
      "text/html": [
       "<div>\n",
       "<style scoped>\n",
       "    .dataframe tbody tr th:only-of-type {\n",
       "        vertical-align: middle;\n",
       "    }\n",
       "\n",
       "    .dataframe tbody tr th {\n",
       "        vertical-align: top;\n",
       "    }\n",
       "\n",
       "    .dataframe thead th {\n",
       "        text-align: right;\n",
       "    }\n",
       "</style>\n",
       "<table border=\"1\" class=\"dataframe\">\n",
       "  <thead>\n",
       "    <tr style=\"text-align: right;\">\n",
       "      <th></th>\n",
       "      <th>bathrooms</th>\n",
       "      <th>bedrooms</th>\n",
       "      <th>square_feet</th>\n",
       "      <th>latitude</th>\n",
       "      <th>longitude</th>\n",
       "      <th>cityname</th>\n",
       "      <th>state</th>\n",
       "      <th>source</th>\n",
       "      <th>RentCategory</th>\n",
       "    </tr>\n",
       "  </thead>\n",
       "  <tbody>\n",
       "    <tr>\n",
       "      <th>0</th>\n",
       "      <td>2.5</td>\n",
       "      <td>2.0</td>\n",
       "      <td>800</td>\n",
       "      <td>35.7585</td>\n",
       "      <td>-78.7783</td>\n",
       "      <td>Cary</td>\n",
       "      <td>NC</td>\n",
       "      <td>RentDigs.com</td>\n",
       "      <td>Medium-Priced Rent</td>\n",
       "    </tr>\n",
       "    <tr>\n",
       "      <th>1</th>\n",
       "      <td>1.0</td>\n",
       "      <td>1.0</td>\n",
       "      <td>795</td>\n",
       "      <td>43.0724</td>\n",
       "      <td>-89.4003</td>\n",
       "      <td>Madison</td>\n",
       "      <td>WI</td>\n",
       "      <td>RentLingo</td>\n",
       "      <td>Medium-Priced Rent</td>\n",
       "    </tr>\n",
       "    <tr>\n",
       "      <th>2</th>\n",
       "      <td>1.0</td>\n",
       "      <td>1.0</td>\n",
       "      <td>560</td>\n",
       "      <td>29.6533</td>\n",
       "      <td>-82.3656</td>\n",
       "      <td>Gainesville</td>\n",
       "      <td>FL</td>\n",
       "      <td>RentLingo</td>\n",
       "      <td>Medium-Priced Rent</td>\n",
       "    </tr>\n",
       "    <tr>\n",
       "      <th>3</th>\n",
       "      <td>1.0</td>\n",
       "      <td>1.0</td>\n",
       "      <td>600</td>\n",
       "      <td>41.2562</td>\n",
       "      <td>-96.0404</td>\n",
       "      <td>Omaha</td>\n",
       "      <td>NE</td>\n",
       "      <td>RentLingo</td>\n",
       "      <td>Low Rent</td>\n",
       "    </tr>\n",
       "    <tr>\n",
       "      <th>4</th>\n",
       "      <td>3.0</td>\n",
       "      <td>3.0</td>\n",
       "      <td>1600</td>\n",
       "      <td>34.0372</td>\n",
       "      <td>-118.2972</td>\n",
       "      <td>Los Angeles</td>\n",
       "      <td>CA</td>\n",
       "      <td>RentLingo</td>\n",
       "      <td>High Rent</td>\n",
       "    </tr>\n",
       "    <tr>\n",
       "      <th>...</th>\n",
       "      <td>...</td>\n",
       "      <td>...</td>\n",
       "      <td>...</td>\n",
       "      <td>...</td>\n",
       "      <td>...</td>\n",
       "      <td>...</td>\n",
       "      <td>...</td>\n",
       "      <td>...</td>\n",
       "      <td>...</td>\n",
       "    </tr>\n",
       "    <tr>\n",
       "      <th>8995</th>\n",
       "      <td>1.0</td>\n",
       "      <td>2.0</td>\n",
       "      <td>875</td>\n",
       "      <td>41.3498</td>\n",
       "      <td>-72.1062</td>\n",
       "      <td>New London</td>\n",
       "      <td>CT</td>\n",
       "      <td>RentDigs.com</td>\n",
       "      <td>Medium-Priced Rent</td>\n",
       "    </tr>\n",
       "    <tr>\n",
       "      <th>8996</th>\n",
       "      <td>1.0</td>\n",
       "      <td>1.0</td>\n",
       "      <td>824</td>\n",
       "      <td>47.5988</td>\n",
       "      <td>-122.1507</td>\n",
       "      <td>Bellevue</td>\n",
       "      <td>WA</td>\n",
       "      <td>RentLingo</td>\n",
       "      <td>High Rent</td>\n",
       "    </tr>\n",
       "    <tr>\n",
       "      <th>8997</th>\n",
       "      <td>1.0</td>\n",
       "      <td>2.0</td>\n",
       "      <td>844</td>\n",
       "      <td>43.7815</td>\n",
       "      <td>-88.4411</td>\n",
       "      <td>Fond Du Lac</td>\n",
       "      <td>WI</td>\n",
       "      <td>RentLingo</td>\n",
       "      <td>Low Rent</td>\n",
       "    </tr>\n",
       "    <tr>\n",
       "      <th>8998</th>\n",
       "      <td>1.0</td>\n",
       "      <td>2.0</td>\n",
       "      <td>489</td>\n",
       "      <td>33.9883</td>\n",
       "      <td>-118.0875</td>\n",
       "      <td>Pico Rivera</td>\n",
       "      <td>CA</td>\n",
       "      <td>RentDigs.com</td>\n",
       "      <td>Medium-Priced Rent</td>\n",
       "    </tr>\n",
       "    <tr>\n",
       "      <th>8999</th>\n",
       "      <td>2.0</td>\n",
       "      <td>2.0</td>\n",
       "      <td>1066</td>\n",
       "      <td>34.1640</td>\n",
       "      <td>-118.4984</td>\n",
       "      <td>Encino</td>\n",
       "      <td>CA</td>\n",
       "      <td>RentLingo</td>\n",
       "      <td>High Rent</td>\n",
       "    </tr>\n",
       "  </tbody>\n",
       "</table>\n",
       "<p>9000 rows × 9 columns</p>\n",
       "</div>"
      ],
      "text/plain": [
       "      bathrooms  bedrooms  square_feet  latitude  longitude     cityname  \\\n",
       "0           2.5       2.0          800   35.7585   -78.7783         Cary   \n",
       "1           1.0       1.0          795   43.0724   -89.4003      Madison   \n",
       "2           1.0       1.0          560   29.6533   -82.3656  Gainesville   \n",
       "3           1.0       1.0          600   41.2562   -96.0404        Omaha   \n",
       "4           3.0       3.0         1600   34.0372  -118.2972  Los Angeles   \n",
       "...         ...       ...          ...       ...        ...          ...   \n",
       "8995        1.0       2.0          875   41.3498   -72.1062   New London   \n",
       "8996        1.0       1.0          824   47.5988  -122.1507     Bellevue   \n",
       "8997        1.0       2.0          844   43.7815   -88.4411  Fond Du Lac   \n",
       "8998        1.0       2.0          489   33.9883  -118.0875  Pico Rivera   \n",
       "8999        2.0       2.0         1066   34.1640  -118.4984       Encino   \n",
       "\n",
       "     state        source        RentCategory  \n",
       "0       NC  RentDigs.com  Medium-Priced Rent  \n",
       "1       WI     RentLingo  Medium-Priced Rent  \n",
       "2       FL     RentLingo  Medium-Priced Rent  \n",
       "3       NE     RentLingo            Low Rent  \n",
       "4       CA     RentLingo           High Rent  \n",
       "...    ...           ...                 ...  \n",
       "8995    CT  RentDigs.com  Medium-Priced Rent  \n",
       "8996    WA     RentLingo           High Rent  \n",
       "8997    WI     RentLingo            Low Rent  \n",
       "8998    CA  RentDigs.com  Medium-Priced Rent  \n",
       "8999    CA     RentLingo           High Rent  \n",
       "\n",
       "[9000 rows x 9 columns]"
      ]
     },
     "execution_count": 55,
     "metadata": {},
     "output_type": "execute_result"
    }
   ],
   "source": [
    "df"
   ]
  },
  {
   "cell_type": "code",
   "execution_count": 56,
   "id": "0d57addc-9cc6-42d7-a8e7-59ba2e5342ec",
   "metadata": {},
   "outputs": [],
   "source": [
    "X = df.drop(columns=['RentCategory'])\n",
    "y = df['RentCategory']"
   ]
  },
  {
   "cell_type": "code",
   "execution_count": 57,
   "id": "fb074098-3272-4f6d-9cef-313b9dec0df2",
   "metadata": {},
   "outputs": [
    {
     "name": "stdout",
     "output_type": "stream",
     "text": [
      "1.0\n",
      "1.0\n",
      "1778\n",
      "30.3054\n",
      "-97.7497\n",
      "Austin\n",
      "TX\n",
      "RentLingo\n"
     ]
    }
   ],
   "source": [
    "with open(r\"C:\\Users\\HP\\Desktop\\ml project ms2\\most_frequent_values (1).pkl\", 'rb') as file:\n",
    "    most_frequent_values = pickle.load(file)\n",
    "for col in X.columns:\n",
    "   \n",
    "    X[col].fillna(most_frequent_values[col], inplace=True)"
   ]
  },
  {
   "cell_type": "code",
   "execution_count": 58,
   "id": "a4a865a8-6695-4d35-91ef-923326337fd5",
   "metadata": {},
   "outputs": [],
   "source": [
    "columns_to_check = ['bathrooms','bedrooms']\n",
    "for col in columns_to_check:\n",
    "    # Convert floating-point numbers to integers, effectively removing the decimal part\n",
    "    X[col] = X[col].apply(lambda x: int(x) if pd.notnull(x) else None)\n",
    "    X[col].astype(int)"
   ]
  },
  {
   "cell_type": "code",
   "execution_count": 59,
   "id": "a87a9e83-7c4f-4d7f-afdf-43dc5e2dd39d",
   "metadata": {},
   "outputs": [],
   "source": [
    "\n",
    "# Assuming you have the list of columns (col_names) for which you saved encoders\n",
    "\n",
    "with open(r\"C:\\Users\\HP\\Desktop\\ml project ms2\\cityname_encoder (1).pkl\", 'rb') as f:\n",
    "    cityname_encoder = pickle.load(f)\n",
    "\n",
    "# Transform the 'cityname' column using the loaded encoder\n",
    "X['cityname'] = cityname_encoder.transform(X[['cityname']])"
   ]
  },
  {
   "cell_type": "code",
   "execution_count": 60,
   "id": "ea65de5d-ddfa-4d37-99d2-f4573bb6126e",
   "metadata": {},
   "outputs": [],
   "source": [
    "with open(r\"C:\\Users\\HP\\Desktop\\ml project ms2\\state_encoder (1).pkl\", 'rb') as f:\n",
    "    state_encoder = pickle.load(f)\n",
    "\n",
    "# Transform the 'cityname' column using the loaded encoder\n",
    "X['state'] = state_encoder.transform(X[['state']])"
   ]
  },
  {
   "cell_type": "code",
   "execution_count": 61,
   "id": "e47d88b7-c670-4429-ba8e-259b4426a48e",
   "metadata": {},
   "outputs": [],
   "source": [
    "with open(r\"C:\\Users\\HP\\Desktop\\ml project ms2\\source_encoder (1).pkl\", 'rb') as f:\n",
    "    source_encoder = pickle.load(f)\n",
    "\n",
    "# Transform the 'cityname' column using the loaded encoder\n",
    "X['source'] = source_encoder.transform(X[['source']])"
   ]
  },
  {
   "cell_type": "code",
   "execution_count": 62,
   "id": "c24928a5-ac73-4c25-856c-b12f0a513765",
   "metadata": {},
   "outputs": [],
   "source": [
    "with open(r\"C:\\Users\\HP\\Desktop\\ml project ms2\\label_encoder (1).pkl\", 'rb') as f:\n",
    "    label_encoder = pickle.load(f)"
   ]
  },
  {
   "cell_type": "code",
   "execution_count": 63,
   "id": "555961c4-dea0-4c02-8244-1efbc139bf90",
   "metadata": {},
   "outputs": [],
   "source": [
    "y=label_encoder.transform(y)"
   ]
  },
  {
   "cell_type": "code",
   "execution_count": 64,
   "id": "bbf35982-825e-4c72-affe-ffa307113d7d",
   "metadata": {},
   "outputs": [],
   "source": [
    "with open(r\"C:\\Users\\HP\\Desktop\\ml project ms2\\scaler.pkl\", 'rb') as f:\n",
    "    scaler = pickle.load(f)\n",
    "    X_scaled=scaler.transform(X)"
   ]
  },
  {
   "cell_type": "code",
   "execution_count": 65,
   "id": "22f77013-9755-4a4d-8baf-070116e40c02",
   "metadata": {},
   "outputs": [
    {
     "data": {
      "text/plain": [
       "array([[ 1.24005151,  0.40560836, -0.2724858 , ..., -1.06784037,\n",
       "         0.0067432 , -0.52449086],\n",
       "       [-0.63211684, -0.87022397, -0.28571788, ...,  0.1850688 ,\n",
       "         1.40918072,  0.42362217],\n",
       "       [-0.63211684, -0.87022397, -0.90762598, ..., -0.47037664,\n",
       "        -1.12856336,  0.42362217],\n",
       "       ...,\n",
       "       [-0.63211684,  0.40560836, -0.15604343, ..., -0.5485259 ,\n",
       "         1.40918072,  0.42362217],\n",
       "       [-0.63211684,  0.40560836, -1.09552162, ...,  0.82034669,\n",
       "        -1.46247705, -0.52449086],\n",
       "       [ 1.24005151,  0.40560836,  0.43146124, ..., -0.62667517,\n",
       "        -1.46247705,  0.42362217]])"
      ]
     },
     "execution_count": 65,
     "metadata": {},
     "output_type": "execute_result"
    }
   ],
   "source": [
    "X_scaled"
   ]
  },
  {
   "cell_type": "code",
   "execution_count": 66,
   "id": "c39f0e33-00f9-4192-b6e9-b4026bfa0af4",
   "metadata": {},
   "outputs": [],
   "source": [
    "with open(r\"C:\\Users\\HP\\Desktop\\ml project ms2\\best_svm_model (1).pkl\", 'rb') as f:\n",
    "    best_svm_model = pickle.load(f)"
   ]
  },
  {
   "cell_type": "code",
   "execution_count": 67,
   "id": "5ca017da-2310-45b2-9e2e-788cee45b651",
   "metadata": {},
   "outputs": [],
   "source": [
    "predicted= best_svm_model.predict(X_scaled)"
   ]
  },
  {
   "cell_type": "code",
   "execution_count": 68,
   "id": "c01d676d-a04a-4ed7-bf23-9c126f2c2524",
   "metadata": {},
   "outputs": [
    {
     "name": "stdout",
     "output_type": "stream",
     "text": [
      "Testing Accuracy: 0.7601111111111111\n"
     ]
    }
   ],
   "source": [
    "test_accuracy = accuracy_score(y, predicted)\n",
    "print(\"Testing Accuracy:\", test_accuracy)"
   ]
  },
  {
   "cell_type": "code",
   "execution_count": 69,
   "id": "69960b7d-bc1f-4afb-9cc4-c0339713abd4",
   "metadata": {},
   "outputs": [],
   "source": [
    "with open(r\"C:\\Users\\HP\\Desktop\\ml project ms2\\best_knn_model (2).pkl\", 'rb') as f:\n",
    "    best_knn_model = pickle.load(f)"
   ]
  },
  {
   "cell_type": "code",
   "execution_count": 70,
   "id": "76dfa405-6b02-4e8e-9647-d3eb525a4bc8",
   "metadata": {},
   "outputs": [
    {
     "name": "stdout",
     "output_type": "stream",
     "text": [
      "Testing Accuracy: 0.78\n"
     ]
    }
   ],
   "source": [
    "predicteds= best_knn_model.predict(X_scaled)\n",
    "test_accuracys = accuracy_score(y, predicteds)\n",
    "print(\"Testing Accuracy:\", test_accuracys)"
   ]
  },
  {
   "cell_type": "code",
   "execution_count": 71,
   "id": "1702f4e2-7134-4861-a613-98abeb0642ea",
   "metadata": {},
   "outputs": [],
   "source": [
    "with open(r\"C:\\Users\\HP\\Desktop\\ml project ms2\\best_xgb_model (1).pkl\", 'rb') as f:\n",
    "    best_xgb_model = pickle.load(f)"
   ]
  },
  {
   "cell_type": "code",
   "execution_count": 72,
   "id": "d8dc93c4-ea40-449d-bb25-91f290f5d431",
   "metadata": {},
   "outputs": [
    {
     "name": "stdout",
     "output_type": "stream",
     "text": [
      "Testing Accuracy: 0.8214444444444444\n"
     ]
    }
   ],
   "source": [
    "predictedse= best_xgb_model.predict(X_scaled)\n",
    "test_accuracyse = accuracy_score(y, predictedse)\n",
    "print(\"Testing Accuracy:\", test_accuracyse)"
   ]
  },
  {
   "cell_type": "code",
   "execution_count": null,
   "id": "8b70d26d-b0c7-4da5-adaf-f22dda6ac1f3",
   "metadata": {},
   "outputs": [],
   "source": []
  }
 ],
 "metadata": {
  "kernelspec": {
   "display_name": "Python 3 (ipykernel)",
   "language": "python",
   "name": "python3"
  },
  "language_info": {
   "codemirror_mode": {
    "name": "ipython",
    "version": 3
   },
   "file_extension": ".py",
   "mimetype": "text/x-python",
   "name": "python",
   "nbconvert_exporter": "python",
   "pygments_lexer": "ipython3",
   "version": "3.11.7"
  }
 },
 "nbformat": 4,
 "nbformat_minor": 5
}
