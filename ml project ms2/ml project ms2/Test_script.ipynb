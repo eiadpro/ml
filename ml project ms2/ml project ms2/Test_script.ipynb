{
 "cells": [
  {
   "cell_type": "code",
   "execution_count": 1,
   "id": "34620474-c6f4-4b51-b2b7-1e92f6a5d153",
   "metadata": {},
   "outputs": [],
   "source": [
    "import pandas as pd\n",
    "import pickle\n",
    "from sklearn.metrics import confusion_matrix, mean_squared_error,accuracy_score"
   ]
  },
  {
   "cell_type": "code",
   "execution_count": 2,
   "id": "32b1ec39-3565-48f3-8f21-9307446e91d6",
   "metadata": {},
   "outputs": [],
   "source": [
    "\n",
    "    df = pd.read_excel(r\"C:\\Users\\HP\\Desktop\\ml project ms2\\test_Script.csv\")\n"
   ]
  },
  {
   "cell_type": "code",
   "execution_count": 3,
   "id": "b6e9ed34-d8b5-4a71-9bdd-d06ab590f762",
   "metadata": {},
   "outputs": [
    {
     "data": {
      "text/html": [
       "<div>\n",
       "<style scoped>\n",
       "    .dataframe tbody tr th:only-of-type {\n",
       "        vertical-align: middle;\n",
       "    }\n",
       "\n",
       "    .dataframe tbody tr th {\n",
       "        vertical-align: top;\n",
       "    }\n",
       "\n",
       "    .dataframe thead th {\n",
       "        text-align: right;\n",
       "    }\n",
       "</style>\n",
       "<table border=\"1\" class=\"dataframe\">\n",
       "  <thead>\n",
       "    <tr style=\"text-align: right;\">\n",
       "      <th></th>\n",
       "      <th>bathrooms</th>\n",
       "      <th>bedrooms</th>\n",
       "      <th>square_feet</th>\n",
       "      <th>latitude</th>\n",
       "      <th>longitude</th>\n",
       "      <th>cityname</th>\n",
       "      <th>state</th>\n",
       "      <th>source</th>\n",
       "      <th>RentCategory</th>\n",
       "    </tr>\n",
       "  </thead>\n",
       "  <tbody>\n",
       "    <tr>\n",
       "      <th>0</th>\n",
       "      <td>2</td>\n",
       "      <td>1</td>\n",
       "      <td>1400</td>\n",
       "      <td>47.5</td>\n",
       "      <td>-102.1</td>\n",
       "      <td>Dallas</td>\n",
       "      <td>OR</td>\n",
       "      <td>RentLingo</td>\n",
       "      <td>Low Rent</td>\n",
       "    </tr>\n",
       "    <tr>\n",
       "      <th>1</th>\n",
       "      <td>3</td>\n",
       "      <td>3</td>\n",
       "      <td>1200</td>\n",
       "      <td>43.0</td>\n",
       "      <td>-67.1</td>\n",
       "      <td>Carry</td>\n",
       "      <td>NE</td>\n",
       "      <td>RentLingo</td>\n",
       "      <td>High Rent</td>\n",
       "    </tr>\n",
       "  </tbody>\n",
       "</table>\n",
       "</div>"
      ],
      "text/plain": [
       "   bathrooms  bedrooms  square_feet  latitude  longitude cityname state  \\\n",
       "0          2         1         1400      47.5     -102.1   Dallas    OR   \n",
       "1          3         3         1200      43.0      -67.1    Carry    NE   \n",
       "\n",
       "      source RentCategory  \n",
       "0  RentLingo     Low Rent  \n",
       "1  RentLingo    High Rent  "
      ]
     },
     "execution_count": 3,
     "metadata": {},
     "output_type": "execute_result"
    }
   ],
   "source": [
    "df"
   ]
  },
  {
   "cell_type": "code",
   "execution_count": 4,
   "id": "0d57addc-9cc6-42d7-a8e7-59ba2e5342ec",
   "metadata": {},
   "outputs": [],
   "source": [
    "X = df.drop(columns=['RentCategory'])\n",
    "y = df['RentCategory']"
   ]
  },
  {
   "cell_type": "code",
   "execution_count": 5,
   "id": "a87a9e83-7c4f-4d7f-afdf-43dc5e2dd39d",
   "metadata": {},
   "outputs": [],
   "source": [
    "\n",
    "# Assuming you have the list of columns (col_names) for which you saved encoders\n",
    "\n",
    "with open(r\"C:\\Users\\HP\\Desktop\\ml project ms2\\cityname_encoder (1).pkl\", 'rb') as f:\n",
    "    cityname_encoder = pickle.load(f)\n",
    "\n",
    "# Transform the 'cityname' column using the loaded encoder\n",
    "X['cityname'] = cityname_encoder.transform(X[['cityname']])"
   ]
  },
  {
   "cell_type": "code",
   "execution_count": 6,
   "id": "ea65de5d-ddfa-4d37-99d2-f4573bb6126e",
   "metadata": {},
   "outputs": [],
   "source": [
    "with open(r\"C:\\Users\\HP\\Desktop\\ml project ms2\\state_encoder (1).pkl\", 'rb') as f:\n",
    "    state_encoder = pickle.load(f)\n",
    "\n",
    "# Transform the 'cityname' column using the loaded encoder\n",
    "X['state'] = state_encoder.transform(X[['state']])"
   ]
  },
  {
   "cell_type": "code",
   "execution_count": 7,
   "id": "e47d88b7-c670-4429-ba8e-259b4426a48e",
   "metadata": {},
   "outputs": [],
   "source": [
    "with open(r\"C:\\Users\\HP\\Desktop\\ml project ms2\\source_encoder (1).pkl\", 'rb') as f:\n",
    "    source_encoder = pickle.load(f)\n",
    "\n",
    "# Transform the 'cityname' column using the loaded encoder\n",
    "X['source'] = source_encoder.transform(X[['source']])"
   ]
  },
  {
   "cell_type": "code",
   "execution_count": 8,
   "id": "c24928a5-ac73-4c25-856c-b12f0a513765",
   "metadata": {},
   "outputs": [],
   "source": [
    "with open(r\"C:\\Users\\HP\\Desktop\\ml project ms2\\label_encoder (1).pkl\", 'rb') as f:\n",
    "    label_encoder = pickle.load(f)"
   ]
  },
  {
   "cell_type": "code",
   "execution_count": 9,
   "id": "555961c4-dea0-4c02-8244-1efbc139bf90",
   "metadata": {},
   "outputs": [],
   "source": [
    "y=label_encoder.transform(y)"
   ]
  },
  {
   "cell_type": "code",
   "execution_count": 10,
   "id": "bbf35982-825e-4c72-affe-ffa307113d7d",
   "metadata": {},
   "outputs": [],
   "source": [
    "with open(r\"C:\\Users\\HP\\Desktop\\ml project ms2\\scaler.pkl\", 'rb') as f:\n",
    "    scaler = pickle.load(f)\n",
    "    X_scaled=scaler.transform(X)"
   ]
  },
  {
   "cell_type": "code",
   "execution_count": 11,
   "id": "22f77013-9755-4a4d-8baf-070116e40c02",
   "metadata": {},
   "outputs": [
    {
     "data": {
      "text/plain": [
       "array([[ 1.24005151, -0.87022397,  1.31536466,  1.83106114, -0.4888788 ,\n",
       "        -0.80818314,  0.67457059,  0.42362217],\n",
       "       [ 3.11221987,  1.68144069,  0.78608117,  0.99674846,  1.79743647,\n",
       "        -1.57455012,  0.14030868,  0.42362217]])"
      ]
     },
     "execution_count": 11,
     "metadata": {},
     "output_type": "execute_result"
    }
   ],
   "source": [
    "X_scaled"
   ]
  },
  {
   "cell_type": "code",
   "execution_count": 12,
   "id": "c39f0e33-00f9-4192-b6e9-b4026bfa0af4",
   "metadata": {},
   "outputs": [],
   "source": [
    "with open(r\"C:\\Users\\HP\\Desktop\\ml project ms2\\best_svm_model (1).pkl\", 'rb') as f:\n",
    "    best_svm_model = pickle.load(f)"
   ]
  },
  {
   "cell_type": "code",
   "execution_count": 13,
   "id": "5ca017da-2310-45b2-9e2e-788cee45b651",
   "metadata": {},
   "outputs": [],
   "source": [
    "predicted= best_svm_model.predict(X_scaled)"
   ]
  },
  {
   "cell_type": "code",
   "execution_count": 14,
   "id": "c01d676d-a04a-4ed7-bf23-9c126f2c2524",
   "metadata": {},
   "outputs": [
    {
     "name": "stdout",
     "output_type": "stream",
     "text": [
      "Testing Accuracy: 0.5\n"
     ]
    }
   ],
   "source": [
    "test_accuracy = accuracy_score(y, predicted)\n",
    "print(\"Testing Accuracy:\", test_accuracy)"
   ]
  },
  {
   "cell_type": "code",
   "execution_count": 15,
   "id": "69960b7d-bc1f-4afb-9cc4-c0339713abd4",
   "metadata": {},
   "outputs": [],
   "source": [
    "with open(r\"C:\\Users\\HP\\Desktop\\ml project ms2\\best_knn_model (2).pkl\", 'rb') as f:\n",
    "    best_knn_model = pickle.load(f)"
   ]
  },
  {
   "cell_type": "code",
   "execution_count": 16,
   "id": "76dfa405-6b02-4e8e-9647-d3eb525a4bc8",
   "metadata": {},
   "outputs": [
    {
     "name": "stdout",
     "output_type": "stream",
     "text": [
      "Testing Accuracy: 1.0\n"
     ]
    }
   ],
   "source": [
    "predicteds= best_knn_model.predict(X_scaled)\n",
    "test_accuracys = accuracy_score(y, predicteds)\n",
    "print(\"Testing Accuracy:\", test_accuracys)"
   ]
  },
  {
   "cell_type": "code",
   "execution_count": 17,
   "id": "1702f4e2-7134-4861-a613-98abeb0642ea",
   "metadata": {},
   "outputs": [],
   "source": [
    "with open(r\"C:\\Users\\HP\\Desktop\\ml project ms2\\best_xgb_model (1).pkl\", 'rb') as f:\n",
    "    best_xgb_model = pickle.load(f)"
   ]
  },
  {
   "cell_type": "code",
   "execution_count": 18,
   "id": "d8dc93c4-ea40-449d-bb25-91f290f5d431",
   "metadata": {},
   "outputs": [
    {
     "name": "stdout",
     "output_type": "stream",
     "text": [
      "Testing Accuracy: 0.0\n"
     ]
    }
   ],
   "source": [
    "predictedse= best_xgb_model.predict(X_scaled)\n",
    "test_accuracyse = accuracy_score(y, predictedse)\n",
    "print(\"Testing Accuracy:\", test_accuracyse)"
   ]
  },
  {
   "cell_type": "code",
   "execution_count": null,
   "id": "8b70d26d-b0c7-4da5-adaf-f22dda6ac1f3",
   "metadata": {},
   "outputs": [],
   "source": []
  }
 ],
 "metadata": {
  "kernelspec": {
   "display_name": "Python 3 (ipykernel)",
   "language": "python",
   "name": "python3"
  },
  "language_info": {
   "codemirror_mode": {
    "name": "ipython",
    "version": 3
   },
   "file_extension": ".py",
   "mimetype": "text/x-python",
   "name": "python",
   "nbconvert_exporter": "python",
   "pygments_lexer": "ipython3",
   "version": "3.11.7"
  }
 },
 "nbformat": 4,
 "nbformat_minor": 5
}
